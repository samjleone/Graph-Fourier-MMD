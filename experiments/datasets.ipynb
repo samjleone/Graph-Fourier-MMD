{
 "cells": [
  {
   "cell_type": "code",
   "execution_count": 161,
   "metadata": {},
   "outputs": [],
   "source": [
    "import numpy as np \n",
    "import sklearn \n",
    "import DiffusionEMD\n",
    "from DiffusionEMD import DiffusionCheb\n",
    "import pandas as pd\n",
    "import time"
   ]
  },
  {
   "cell_type": "markdown",
   "metadata": {},
   "source": [
    "# Module"
   ]
  },
  {
   "cell_type": "code",
   "execution_count": 154,
   "metadata": {},
   "outputs": [],
   "source": [
    "import scipy\n",
    "import pygsp\n",
    "\n",
    "class Graph_Fourier_MMD:\n",
    "    def __init__(self, Graph = None):\n",
    "        if Graph != None:\n",
    "            self.G = Graph\n",
    "            self.T = self.G.L.trace()\n",
    "        else:\n",
    "            raise ValueError(\"Graph Required\")\n",
    "            \n",
    "    def feature_map(self, signals, method, filter_name):\n",
    "        recip_filter = pygsp.filters.Filter(self.G, kernels = [lambda x : [i**(-1/2) if i != 0 else 0 for i in x]])\n",
    "        heat_filter = pygsp.filters.Heat(self.G)\n",
    "\n",
    "        if filter_name == 'heat':\n",
    "            use_filter = heat_filter\n",
    "        elif filter_name == \"default\":\n",
    "            use_filter = recip_filter\n",
    "        else:\n",
    "            raise NameError(\"Filter name must either be 'heat' or 'default'\")\n",
    "        \n",
    "        if method == \"chebyshev\":\n",
    "            return use_filter.filter(signals, method = 'chebyshev') * (self.T)**(1/2)\n",
    "        else:\n",
    "            return use_filter.filter(signals, method = 'exact') * (self.T)**(1/2)\n",
    "\n",
    "    def locality(self, signals, method='chebyshev', filter_name='default'):\n",
    "        transformed = self.feature_map(signals, method, filter_name)\n",
    "        return [np.linalg.norm(t) for t in transformed.T]\n",
    "\n",
    "    def distance(self, signals, method='chebyshev', filter_name='default'):\n",
    "        n = signals.shape[1]\n",
    "\n",
    "        if n == 1:\n",
    "            raise ValueError(\"Need more than two signals to compare\")\n",
    "            return False \n",
    "\n",
    "        transformed = self.feature_map(signals, method, filter_name)\n",
    "        distances = scipy.spatial.pdist(signals.T)\n",
    "\n",
    "        if n == 2:\n",
    "            return distances[0,1]\n",
    "        else:\n",
    "            return distances"
   ]
  },
  {
   "cell_type": "markdown",
   "metadata": {},
   "source": [
    "# Experiments on Minnesota Graph"
   ]
  },
  {
   "cell_type": "markdown",
   "metadata": {},
   "source": [
    "## Generate Graph"
   ]
  },
  {
   "cell_type": "code",
   "execution_count": 174,
   "metadata": {},
   "outputs": [],
   "source": [
    "G = Graph=pygsp.graphs.Minnesota()\n",
    "GFMMD = Graph_Fourier_MMD(G)"
   ]
  },
  {
   "cell_type": "markdown",
   "metadata": {},
   "source": [
    "## Generate Signals\n",
    "\n",
    "Diffused at $\\tau = 2^j$ for $j=0,4,8,12,16$"
   ]
  },
  {
   "cell_type": "code",
   "execution_count": 123,
   "metadata": {},
   "outputs": [
    {
     "name": "stderr",
     "output_type": "stream",
     "text": [
      "2022-08-24 12:05:17,337:[WARNING](pygsp.graphs.graph.lmax): The largest eigenvalue G.lmax is not available, we need to estimate it. Explicitly call G.estimate_lmax() or G.compute_fourier_basis() once beforehand to suppress the warning.\n"
     ]
    }
   ],
   "source": [
    "diracs = np.eye(G.N)\n",
    "diffusions = pygsp.filters.Heat(G, tau = [2**0, 2**4, 2**8, 2**12, 2**16]).filter(diracs)"
   ]
  },
  {
   "cell_type": "markdown",
   "metadata": {},
   "source": [
    "## Create Tables\n",
    "\n",
    "One for time and one for overall locality measure"
   ]
  },
  {
   "cell_type": "code",
   "execution_count": 180,
   "metadata": {},
   "outputs": [],
   "source": [
    "locality_measure = pd.DataFrame(columns = ['Method', 't=2^0', 't=2^4', 't=2^8', 't=2^12', 't=2^16' ])\n",
    "runtime_table = pd.DataFrame(columns = ['Method', 'Compute Eigenvectors', 't=2^0', 't=2^4', 't=2^8', 't=2^12', 't=2^16' ])\n"
   ]
  },
  {
   "cell_type": "markdown",
   "metadata": {},
   "source": [
    "Using Graph Fourier MMD with Chebyshev approximation of the filter $h(\\lambda) = \\lambda^{-1/2}\\mathbf{1}\\{\\lambda \\neq 0\\}$:"
   ]
  },
  {
   "cell_type": "code",
   "execution_count": 181,
   "metadata": {},
   "outputs": [],
   "source": [
    "row = {}\n",
    "row['Method'] = 'Graph Fourier MMD (Chebyshev)'\n",
    "time_row = row\n",
    "\n",
    "for i in range(5):\n",
    "    start_time = time.time()\n",
    "    row[f't=2^{4*i}'] = str(np.mean(GFMMD.locality(diffusions[:,:,i])))\n",
    "    runtime = time.time() - start_time\n",
    "    time_row[f't=2^{4*i}'] = runtime\n",
    "\n",
    "locality_measure.loc[0,:]=row\n",
    "\n",
    "time_row['Compute Eigenvectors'] = 0\n",
    "runtime_table.loc[0,:]=time_row"
   ]
  },
  {
   "cell_type": "markdown",
   "metadata": {},
   "source": [
    "Using Graph Fourier MMD with exact filter $h(\\lambda) = \\lambda^{-1/2}\\mathbf{1}\\{\\lambda \\neq 0\\}$:"
   ]
  },
  {
   "cell_type": "code",
   "execution_count": 182,
   "metadata": {},
   "outputs": [],
   "source": [
    "G = Graph=pygsp.graphs.Minnesota()\n",
    "GFMMD = Graph_Fourier_MMD(G)\n",
    "\n",
    "row = {}\n",
    "row['Method'] = 'Graph Fourier MMD (Exact)'\n",
    "time_row = row\n",
    "\n",
    "start_time = time.time()\n",
    "G.compute_fourier_basis()\n",
    "time_row['Compute Eigenvectors'] = time.time() - start_time\n",
    "\n",
    "for i in range(5):\n",
    "    start_time = time.time()\n",
    "    row[f't=2^{4*i}'] = str(np.mean(GFMMD.locality(diffusions[:,:,i], method = 'exact')))\n",
    "    runtime = time.time() - start_time\n",
    "    time_row[f't=2^{4*i}'] = runtime\n",
    "\n",
    "locality_measure.loc[1,:]=row\n",
    "runtime_table.loc[1,:]=time_row"
   ]
  },
  {
   "cell_type": "markdown",
   "metadata": {},
   "source": [
    "Using the Heat Filter with $h(\\lambda) =  \\lambda^{-1/2}\\mathbf{1}\\{\\lambda \\neq 0\\}$, approximated by Chebyshev polynomials"
   ]
  },
  {
   "cell_type": "code",
   "execution_count": 184,
   "metadata": {},
   "outputs": [
    {
     "name": "stderr",
     "output_type": "stream",
     "text": [
      "2022-08-24 12:46:07,443:[WARNING](pygsp.graphs.graph.lmax): The largest eigenvalue G.lmax is not available, we need to estimate it. Explicitly call G.estimate_lmax() or G.compute_fourier_basis() once beforehand to suppress the warning.\n"
     ]
    }
   ],
   "source": [
    "G = Graph=pygsp.graphs.Minnesota()\n",
    "GFMMD = Graph_Fourier_MMD(G)\n",
    "\n",
    "row = {}\n",
    "row['Method'] = 'Heat Filter (Chebyshev)'\n",
    "time_row = row\n",
    "\n",
    "time_row['Compute Eigenvectors'] = 0\n",
    "\n",
    "for i in range(5):\n",
    "    start_time = time.time()\n",
    "    row[f't=2^{4*i}'] = str(np.mean(GFMMD.locality(diffusions[:,:,i], method = 'chebyshev', filter_name = 'heat')))\n",
    "    runtime = time.time() - start_time\n",
    "    time_row[f't=2^{4*i}'] = runtime\n",
    "\n",
    "locality_measure.loc[2,:]=row\n",
    "runtime_table.loc[2,:]=time_row"
   ]
  },
  {
   "cell_type": "markdown",
   "metadata": {},
   "source": [
    "Using the Heat Filter with $h(\\lambda) =  \\lambda^{-1/2}\\mathbf{1}\\{\\lambda \\neq 0\\}$, exactly:"
   ]
  },
  {
   "cell_type": "code",
   "execution_count": 185,
   "metadata": {},
   "outputs": [],
   "source": [
    "G = Graph=pygsp.graphs.Minnesota()\n",
    "GFMMD = Graph_Fourier_MMD(G)\n",
    "\n",
    "row = {}\n",
    "row['Method'] = 'Heat Filter (Exact)'\n",
    "time_row = row\n",
    "\n",
    "start_time = time.time()\n",
    "G.compute_fourier_basis()\n",
    "time_row['Compute Eigenvectors'] = time.time() - start_time\n",
    "\n",
    "for i in range(5):\n",
    "    start_time = time.time()\n",
    "    row[f't=2^{4*i}'] = str(np.mean(GFMMD.locality(diffusions[:,:,i], method = 'exact', filter_name = 'heat')))\n",
    "    runtime = time.time() - start_time\n",
    "    time_row[f't=2^{4*i}'] = runtime\n",
    "\n",
    "locality_measure.loc[3,:]=row\n",
    "runtime_table.loc[3,:]=time_row"
   ]
  },
  {
   "cell_type": "markdown",
   "metadata": {},
   "source": [
    "Using Diffusion EMD to embed the signals (such that the $L_1$ distance betwen embeddings is equal to the EMD using \n",
    "the modified diffusion distance $D_\\alpha$) and then taking the $L_1$ distance to the embedding of the uniform distribution"
   ]
  },
  {
   "cell_type": "code",
   "execution_count": 188,
   "metadata": {},
   "outputs": [],
   "source": [
    "row = {}\n",
    "row['Method'] = 'Diffusion EMD'\n",
    "time_row = row\n",
    "\n",
    "time_row['Compute Eigenvectors'] = 0\n",
    "\n",
    "adj = G.A\n",
    "dc = DiffusionCheb()\n",
    "\n",
    "for i in range(5):\n",
    "    distributions = np.hstack((np.ones(G.N).reshape(G.N,1) / G.N, diffusions[:,:,i]))\n",
    "\n",
    "    # Embeddings where the L1 distance approximates the Earth Mover's Distance\n",
    "    start_time = time.time()\n",
    "    embeddings = dc.fit_transform(adj, distributions)\n",
    "    # Shape: (5, 60)\n",
    "\n",
    "    dist_to_uniform = []\n",
    "    for j in range(1,distributions.shape[1]):\n",
    "        dist_to_uniform.append(np.linalg.norm(embeddings[j] - embeddings[0], ord=1))\n",
    "    row[f't=2^{4*i}'] = np.mean(dist_to_uniform)\n",
    "\n",
    "    runtime = time.time() - start_time\n",
    "    time_row[f't=2^{4*i}'] = runtime\n",
    "    \n",
    "locality_measure.loc[4,:]=row\n",
    "runtime_table.loc[4,:]=time_row\n"
   ]
  },
  {
   "cell_type": "code",
   "execution_count": 196,
   "metadata": {},
   "outputs": [],
   "source": [
    "locality_measure.style.to_latex('Documents/Graph Fourier MMD/Latex/Distance.tex')\n",
    "runtime_table.style.to_latex('Documents/Graph Fourier MMD/Latex/Time.tex')"
   ]
  }
 ],
 "metadata": {
  "kernelspec": {
   "display_name": "Python 3 (ipykernel)",
   "language": "python",
   "name": "python3"
  },
  "language_info": {
   "codemirror_mode": {
    "name": "ipython",
    "version": 3
   },
   "file_extension": ".py",
   "mimetype": "text/x-python",
   "name": "python",
   "nbconvert_exporter": "python",
   "pygments_lexer": "ipython3",
   "version": "3.9.13"
  },
  "orig_nbformat": 4
 },
 "nbformat": 4,
 "nbformat_minor": 2
}
